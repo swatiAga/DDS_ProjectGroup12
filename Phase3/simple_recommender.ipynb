{
 "cells": [
  {
   "cell_type": "code",
   "execution_count": 90,
   "metadata": {},
   "outputs": [],
   "source": [
    "from pyspark.ml.recommendation import ALS\n",
    "from pyspark.ml.evaluation import RegressionEvaluator\n",
    "from pyspark.ml.feature import StringIndexer\n",
    "from pyspark.sql import functions as F\n",
    "from pyspark.sql.functions import col, udf\n",
    "from pyspark.sql.types import IntegerType"
   ]
  },
  {
   "cell_type": "code",
   "execution_count": 74,
   "metadata": {},
   "outputs": [],
   "source": [
    "spark = SparkSession.builder.appName('MovieRecommender').getOrCreate()"
   ]
  },
  {
   "cell_type": "markdown",
   "metadata": {},
   "source": [
    "#### Loading Data\n",
    "\n",
    "Since there was some difficulty getting MongoDB Pyspark to work, we wrote most of our code pulling data directly from the JSON files."
   ]
  },
  {
   "cell_type": "code",
   "execution_count": 75,
   "metadata": {},
   "outputs": [
    {
     "name": "stderr",
     "output_type": "stream",
     "text": [
      "25/03/07 19:24:11 WARN TaskSetManager: Stage 659 contains a task of very large size (6426 KiB). The maximum recommended task size is 1000 KiB.\n"
     ]
    },
    {
     "name": "stdout",
     "output_type": "stream",
     "text": [
      "+--------------------+--------------------+------------+----------+------------+----------+--------------------+-------+--------------------+\n",
      "|                 _id|               title|release_date|popularity|vote_average|vote_count|            overview|tmdb_id|             ratings|\n",
      "+--------------------+--------------------+------------+----------+------------+----------+--------------------+-------+--------------------+\n",
      "|{67b7d9d43806d131...|Sonic the Hedgehog 3|  2024-12-19|  3084.368|       7.783|      1555|Sonic, Knuckles, ...| 939243|[{2025-01-26T09:2...|\n",
      "|{67b7d9d43806d131...|   Kraven the Hunter|  2024-12-11|   1785.56|         6.6|      1066|Kraven Kravinoff'...| 539972|[{2024-12-22T03:3...|\n",
      "|{67b7d9d43806d131...|             Moana 2|  2024-11-21|  1427.587|       7.208|      1311|After receiving a...|1241982|[{2025-01-29T17:1...|\n",
      "|{67b7d9d43806d131...|      Back in Action|  2025-01-15|  1312.816|       6.633|       793|Fifteen years aft...| 993710|[{2025-01-21T20:1...|\n",
      "|{67b7d9d43806d131...|              Alarum|  2025-01-16|  1149.463|         5.9|       124|Two married spies...|1249289|[{2025-01-18T22:4...|\n",
      "|{67b7d9d43806d131...|Sniper: The Last ...|  2025-01-21|  1030.228|         6.5|        65|To stop an arms d...|1410082|[{2025-01-24T23:4...|\n",
      "|{67b7d9d43806d131...|Raiders of the Lo...|  1981-06-12|   980.647|       7.926|     12604|When Dr. Indiana ...|     85|[{2021-09-25T06:0...|\n",
      "|{67b7d9d43806d131...|            Babygirl|  2024-12-25|   870.978|       5.762|       366|A high-powered CE...|1097549|[{2025-01-30T09:0...|\n",
      "|{67b7d9d43806d131...|Venom: The Last D...|  2024-10-22|   841.993|        6.78|      2688|Eddie and Venom a...| 912649|[{2024-12-12T09:4...|\n",
      "|{67b7d9d43806d131...|           Nosferatu|  2024-12-25|   763.015|         6.7|      1902|A gothic tale of ...| 426063|[{2023-07-31T05:1...|\n",
      "+--------------------+--------------------+------------+----------+------------+----------+--------------------+-------+--------------------+\n",
      "only showing top 10 rows\n",
      "\n"
     ]
    },
    {
     "name": "stderr",
     "output_type": "stream",
     "text": [
      "                                                                                \r"
     ]
    }
   ],
   "source": [
    "with open('../ratings/movies_with_ratings.json', 'r') as f:\n",
    "    data = json.load(f)\n",
    "\n",
    "for movie in data:\n",
    "    if isinstance(movie.get('popularity'), int):\n",
    "        movie['popularity'] = float(movie['popularity'])\n",
    "    if isinstance(movie.get('vote_average'), int):\n",
    "        movie['vote_average'] = float(movie['vote_average'])\n",
    "\n",
    "schema = StructType([\n",
    "    StructField('_id', StructType([StructField('$oid', StringType(), True)]), True),\n",
    "    StructField('title', StringType(), True),\n",
    "    StructField('release_date', StringType(), True),\n",
    "    StructField('popularity', FloatType(), True),\n",
    "    StructField('vote_average', FloatType(), True),\n",
    "    StructField('vote_count', IntegerType(), True),\n",
    "    StructField('overview', StringType(), True),\n",
    "    StructField('tmdb_id', IntegerType(), True),\n",
    "    StructField('ratings', ArrayType(\n",
    "        StructType([\n",
    "            StructField('rated_at', StringType(), True),\n",
    "            StructField('rating', IntegerType(), True),\n",
    "            StructField('user', StringType(), True)\n",
    "        ])\n",
    "    ), True)\n",
    "])\n",
    "\n",
    "data = spark.createDataFrame(data, schema=schema)\n",
    "data.show(10)"
   ]
  },
  {
   "cell_type": "markdown",
   "metadata": {},
   "source": [
    "#### DataFrame Creation\n",
    "\n",
    "- Select relevant movie data to create movies DataFrame.\n",
    "- Expand ratings data to be one per row."
   ]
  },
  {
   "cell_type": "code",
   "execution_count": 76,
   "metadata": {},
   "outputs": [
    {
     "name": "stderr",
     "output_type": "stream",
     "text": [
      "25/03/07 19:24:11 WARN TaskSetManager: Stage 660 contains a task of very large size (6426 KiB). The maximum recommended task size is 1000 KiB.\n"
     ]
    },
    {
     "name": "stdout",
     "output_type": "stream",
     "text": [
      "+--------+--------------------+--------------------+------------+----------+------------+----------+\n",
      "|movie_id|               title|            overview|release_date|popularity|vote_average|vote_count|\n",
      "+--------+--------------------+--------------------+------------+----------+------------+----------+\n",
      "|  939243|Sonic the Hedgehog 3|Sonic, Knuckles, ...|  2024-12-19|  3084.368|       7.783|      1555|\n",
      "|  539972|   Kraven the Hunter|Kraven Kravinoff'...|  2024-12-11|   1785.56|         6.6|      1066|\n",
      "| 1241982|             Moana 2|After receiving a...|  2024-11-21|  1427.587|       7.208|      1311|\n",
      "|  993710|      Back in Action|Fifteen years aft...|  2025-01-15|  1312.816|       6.633|       793|\n",
      "| 1249289|              Alarum|Two married spies...|  2025-01-16|  1149.463|         5.9|       124|\n",
      "+--------+--------------------+--------------------+------------+----------+------------+----------+\n",
      "only showing top 5 rows\n",
      "\n"
     ]
    }
   ],
   "source": [
    "movies = data.select(\n",
    "    col('tmdb_id').alias('movie_id'),\n",
    "    'title',\n",
    "    'overview',\n",
    "    'release_date',\n",
    "    'popularity',\n",
    "    'vote_average',\n",
    "    'vote_count'\n",
    ")\n",
    "movies.show(5)"
   ]
  },
  {
   "cell_type": "code",
   "execution_count": 77,
   "metadata": {},
   "outputs": [
    {
     "name": "stdout",
     "output_type": "stream",
     "text": [
      "+--------+------------+------+--------------------+\n",
      "|movie_id|        user|rating|            rated_at|\n",
      "+--------+------------+------+--------------------+\n",
      "|  939243|  abesempire|     4|2025-01-26T09:23:...|\n",
      "|  939243|arcanjoalain|     9|2025-01-21T19:09:...|\n",
      "|  939243|    alx_zero|     6|2025-01-03T21:10:...|\n",
      "|  939243|     anizero|     5|2025-01-22T21:20:...|\n",
      "|  939243|    acaranta|     7|2025-01-22T07:43:...|\n",
      "+--------+------------+------+--------------------+\n",
      "only showing top 5 rows\n",
      "\n"
     ]
    },
    {
     "name": "stderr",
     "output_type": "stream",
     "text": [
      "25/03/07 19:24:11 WARN TaskSetManager: Stage 661 contains a task of very large size (6426 KiB). The maximum recommended task size is 1000 KiB.\n"
     ]
    }
   ],
   "source": [
    "ratings = data.select(\n",
    "    col('tmdb_id').alias('movie_id'),\n",
    "    explode('ratings').alias('rating_info')\n",
    ").select(\n",
    "    'movie_id',\n",
    "    col('rating_info.user').alias('user'),\n",
    "    col('rating_info.rating').alias('rating'),\n",
    "    col('rating_info.rated_at').alias('rated_at')\n",
    ")\n",
    "ratings.show(5)"
   ]
  },
  {
   "cell_type": "markdown",
   "metadata": {},
   "source": [
    "The user_ids are strings, but the model only takes numeric user_ids, so we have to assign a numeric user_id to each user."
   ]
  },
  {
   "cell_type": "code",
   "execution_count": 78,
   "metadata": {},
   "outputs": [
    {
     "name": "stderr",
     "output_type": "stream",
     "text": [
      "25/03/07 19:24:11 WARN TaskSetManager: Stage 662 contains a task of very large size (6426 KiB). The maximum recommended task size is 1000 KiB.\n",
      "25/03/07 19:24:12 WARN TaskSetManager: Stage 665 contains a task of very large size (6426 KiB). The maximum recommended task size is 1000 KiB.\n"
     ]
    },
    {
     "name": "stdout",
     "output_type": "stream",
     "text": [
      "+--------+------------+------+--------------------+-----------+\n",
      "|movie_id|        user|rating|            rated_at|user_id_num|\n",
      "+--------+------------+------+--------------------+-----------+\n",
      "|  939243|  abesempire|     4|2025-01-26T09:23:...|       37.0|\n",
      "|  939243|arcanjoalain|     9|2025-01-21T19:09:...|     1033.0|\n",
      "|  939243|    alx_zero|     6|2025-01-03T21:10:...|      280.0|\n",
      "|  939243|     anizero|     5|2025-01-22T21:20:...|       16.0|\n",
      "|  939243|    acaranta|     7|2025-01-22T07:43:...|        7.0|\n",
      "+--------+------------+------+--------------------+-----------+\n",
      "only showing top 5 rows\n",
      "\n"
     ]
    }
   ],
   "source": [
    "# assign a unique idx to each user\n",
    "user_idx = StringIndexer(inputCol='user', outputCol='user_id_num')\n",
    "user_fit = user_idx.fit(ratings)\n",
    "ratings = user_fit.transform(ratings)\n",
    "ratings.show(5)"
   ]
  },
  {
   "cell_type": "code",
   "execution_count": 79,
   "metadata": {},
   "outputs": [
    {
     "name": "stdout",
     "output_type": "stream",
     "text": [
      "+--------+------------+------+--------------------+-----------+\n",
      "|movie_id|        user|rating|            rated_at|user_id_num|\n",
      "+--------+------------+------+--------------------+-----------+\n",
      "|  939243|  abesempire|   4.0|2025-01-26T09:23:...|       37.0|\n",
      "|  939243|arcanjoalain|   9.0|2025-01-21T19:09:...|     1033.0|\n",
      "|  939243|    alx_zero|   6.0|2025-01-03T21:10:...|      280.0|\n",
      "|  939243|     anizero|   5.0|2025-01-22T21:20:...|       16.0|\n",
      "|  939243|    acaranta|   7.0|2025-01-22T07:43:...|        7.0|\n",
      "+--------+------------+------+--------------------+-----------+\n",
      "only showing top 5 rows\n",
      "\n"
     ]
    },
    {
     "name": "stderr",
     "output_type": "stream",
     "text": [
      "25/03/07 19:24:13 WARN TaskSetManager: Stage 666 contains a task of very large size (6426 KiB). The maximum recommended task size is 1000 KiB.\n"
     ]
    }
   ],
   "source": [
    "# cast movie_id column to be an int/numeric value as well\n",
    "ratings = ratings.withColumn(\n",
    "    'movie_id', col('movie_id').cast(IntegerType())\n",
    ").withColumn('rating', col('rating').cast('float'))\n",
    "ratings.show(5)"
   ]
  },
  {
   "cell_type": "markdown",
   "metadata": {},
   "source": [
    "#### Simple Recommender System\n",
    "\n",
    "Implement a simple movie recommender system. ALS is a matrix factorization technique from pyspark that decomposes user-item interaction matrix into two matrices: one for users and one for items (the movies)."
   ]
  },
  {
   "cell_type": "code",
   "execution_count": 80,
   "metadata": {},
   "outputs": [
    {
     "name": "stderr",
     "output_type": "stream",
     "text": [
      "25/03/07 19:24:22 WARN TaskSetManager: Stage 667 contains a task of very large size (6426 KiB). The maximum recommended task size is 1000 KiB.\n"
     ]
    },
    {
     "name": "stdout",
     "output_type": "stream",
     "text": [
      "+--------+-------------+------+--------------------+-----------+\n",
      "|movie_id|         user|rating|            rated_at|user_id_num|\n",
      "+--------+-------------+------+--------------------+-----------+\n",
      "|      12|  a-bristow23|   9.0|2013-11-19T20:06:...|       43.0|\n",
      "|      12|     a-vargas|   6.0|2015-02-09T03:53:...|      577.0|\n",
      "|      12|   a_karenina|   8.0|2014-01-13T07:52:...|      205.0|\n",
      "|      12|aabdulgalimov|   7.0|2014-09-13T20:58:...|      325.0|\n",
      "|      12|       aak112|   9.0|2012-10-25T23:54:...|      128.0|\n",
      "+--------+-------------+------+--------------------+-----------+\n",
      "only showing top 5 rows\n",
      "\n"
     ]
    },
    {
     "name": "stderr",
     "output_type": "stream",
     "text": [
      "                                                                                \r"
     ]
    }
   ],
   "source": [
    "# split data into test and training\n",
    "training, test = ratings.randomSplit([0.8, 0.2], seed=42)\n",
    "training.show(5)"
   ]
  },
  {
   "cell_type": "code",
   "execution_count": 82,
   "metadata": {},
   "outputs": [
    {
     "name": "stderr",
     "output_type": "stream",
     "text": [
      "25/03/07 19:24:59 WARN TaskSetManager: Stage 668 contains a task of very large size (6426 KiB). The maximum recommended task size is 1000 KiB.\n",
      "25/03/07 19:25:00 WARN TaskSetManager: Stage 669 contains a task of very large size (6426 KiB). The maximum recommended task size is 1000 KiB.\n",
      "                                                                                \r"
     ]
    }
   ],
   "source": [
    "# fit model; most of these are defaults\n",
    "als = ALS(\n",
    "    maxIter=10,\n",
    "    regParam=0.1,\n",
    "    userCol='user_id_num',\n",
    "    itemCol='movie_id',\n",
    "    ratingCol='rating',\n",
    "    coldStartStrategy='drop',\n",
    "    implicitPrefs=False\n",
    ")\n",
    "\n",
    "model = als.fit(training)"
   ]
  },
  {
   "cell_type": "code",
   "execution_count": 87,
   "metadata": {},
   "outputs": [
    {
     "name": "stderr",
     "output_type": "stream",
     "text": [
      "25/03/07 19:29:31 WARN Column: Constructing trivially true equals predicate, 'user_id_num#5147 = user_id_num#5147'. Perhaps you need to use aliases.\n",
      "25/03/07 19:29:37 WARN TaskSetManager: Stage 856 contains a task of very large size (6426 KiB). The maximum recommended task size is 1000 KiB.\n",
      "25/03/07 19:29:38 WARN TaskSetManager: Stage 857 contains a task of very large size (6426 KiB). The maximum recommended task size is 1000 KiB.\n",
      "                                                                                \r"
     ]
    },
    {
     "name": "stdout",
     "output_type": "stream",
     "text": [
      "+---------+--------+-----------+\n",
      "|     user|movie_id|pred_rating|\n",
      "+---------+--------+-----------+\n",
      "|allengero| 1397314|   8.851983|\n",
      "|allengero| 1404382|   8.527263|\n",
      "|allengero|   68555|   8.454443|\n",
      "|allengero| 1000837|   8.149622|\n",
      "|allengero|     278|   8.024152|\n",
      "|allengero| 1397314|  10.485161|\n",
      "|allengero| 1404382|  9.9202385|\n",
      "|allengero|   68555|   9.603919|\n",
      "|allengero| 1000837|   9.426096|\n",
      "|allengero|  545742|   9.392661|\n",
      "+---------+--------+-----------+\n",
      "only showing top 10 rows\n",
      "\n"
     ]
    }
   ],
   "source": [
    "user_ids = ratings.select('user', 'user_id_num').distinct()\n",
    "user_recs = model.recommendForAllUsers(5)\n",
    "\n",
    "user_recs = user_recs.join(\n",
    "    user_ids, \n",
    "    user_recs.user_id_num == user_recs.user_id_num, \n",
    "    'inner'\n",
    ").select(\n",
    "    'user',\n",
    "    F.explode(col('recommendations')).alias('rec')\n",
    ").select(\n",
    "    'user',\n",
    "    col('rec.movie_id').alias('rec_movie_id'),\n",
    "    col('rec.rating').alias('pred_rating')\n",
    ")\n",
    "\n",
    "movie_id_map = ratings.select('movie_id').distinct()\n",
    "\n",
    "user_recs = user_recs.join(\n",
    "    movie_id_map,\n",
    "    user_recs.rec_movie_id == movie_id_map.movie_id,\n",
    "    'inner'\n",
    ").select(\n",
    "    'user',\n",
    "    'movie_id',\n",
    "    'pred_rating'\n",
    ")\n",
    "\n",
    "user_recs.show(10)"
   ]
  },
  {
   "cell_type": "code",
   "execution_count": 88,
   "metadata": {},
   "outputs": [
    {
     "name": "stderr",
     "output_type": "stream",
     "text": [
      "25/03/07 19:29:53 WARN TaskSetManager: Stage 887 contains a task of very large size (6426 KiB). The maximum recommended task size is 1000 KiB.\n",
      "                                                                                \r"
     ]
    },
    {
     "data": {
      "text/plain": [
       "1.3902207038205663"
      ]
     },
     "execution_count": 88,
     "metadata": {},
     "output_type": "execute_result"
    }
   ],
   "source": [
    "preds = model.transform(test)\n",
    "\n",
    "evaluator = RegressionEvaluator(\n",
    "    metricName='rmse',\n",
    "    labelCol='rating',\n",
    "    predictionCol='prediction'\n",
    ")\n",
    "\n",
    "rmse = evaluator.evaluate(preds)\n",
    "rmse"
   ]
  },
  {
   "cell_type": "markdown",
   "metadata": {},
   "source": [
    "Error for predicted rating is on average about 1.39 off."
   ]
  },
  {
   "cell_type": "code",
   "execution_count": 89,
   "metadata": {},
   "outputs": [
    {
     "name": "stderr",
     "output_type": "stream",
     "text": [
      "25/03/07 19:31:20 WARN TaskSetManager: Stage 942 contains a task of very large size (6426 KiB). The maximum recommended task size is 1000 KiB.\n",
      "25/03/07 19:31:22 WARN TaskSetManager: Stage 968 contains a task of very large size (6426 KiB). The maximum recommended task size is 1000 KiB.\n",
      "                                                                                \r"
     ]
    },
    {
     "name": "stdout",
     "output_type": "stream",
     "text": [
      "+--------+---------+-----------+-----------+----------+--------------------+\n",
      "|movie_id|     user|true_rating|pred_rating|      diff|               title|\n",
      "+--------+---------+-----------+-----------+----------+--------------------+\n",
      "|      13| antifriz|       10.0|   8.606488| 1.3935118|        Forrest Gump|\n",
      "|      13|ar-aburas|       10.0|   9.666296|  0.333704|        Forrest Gump|\n",
      "|      18|   adam22|        9.0|   8.948988|0.05101204|   The Fifth Element|\n",
      "|      58|   adam22|        8.0|   8.295311|0.29531097|Pirates of the Ca...|\n",
      "|      85|ar-aburas|        9.0|   8.572687|0.42731285|Raiders of the Lo...|\n",
      "|     105|  agomist|        7.0|   7.805289| 0.8052888|  Back to the Future|\n",
      "|     105|  agomist|        7.0|   7.805289| 0.8052888|  Back to the Future|\n",
      "|     122|   adam22|       10.0|   9.530949|0.46905136|The Lord of the R...|\n",
      "|     129|   adam22|        9.0|   9.261142|0.26114178|       Spirited Away|\n",
      "|     170|  agomist|        4.0|  7.2854257| 3.2854257|       28 Days Later|\n",
      "+--------+---------+-----------+-----------+----------+--------------------+\n",
      "only showing top 10 rows\n",
      "\n"
     ]
    }
   ],
   "source": [
    "final_df = preds.select(\n",
    "        'user', \n",
    "        'movie_id', \n",
    "        col('rating').alias('true_rating'), \n",
    "        col('prediction').alias('pred_rating')\n",
    "    ).orderBy(F.rand()).limit(100).withColumn(\n",
    "    'diff', \n",
    "    F.abs(col('true_rating') - col('pred_rating'))\n",
    ").join(\n",
    "    movies.select('movie_id', 'title'),\n",
    "    'movie_id',\n",
    "    'left'\n",
    ")\n",
    "\n",
    "final_df.show(10)"
   ]
  },
  {
   "cell_type": "code",
   "execution_count": 91,
   "metadata": {},
   "outputs": [],
   "source": [
    "spark.stop()"
   ]
  },
  {
   "cell_type": "code",
   "execution_count": null,
   "metadata": {},
   "outputs": [],
   "source": []
  }
 ],
 "metadata": {
  "kernelspec": {
   "display_name": "DistributedSystems",
   "language": "python",
   "name": "python3"
  },
  "language_info": {
   "codemirror_mode": {
    "name": "ipython",
    "version": 3
   },
   "file_extension": ".py",
   "mimetype": "text/x-python",
   "name": "python",
   "nbconvert_exporter": "python",
   "pygments_lexer": "ipython3",
   "version": "3.8.18"
  }
 },
 "nbformat": 4,
 "nbformat_minor": 2
}
