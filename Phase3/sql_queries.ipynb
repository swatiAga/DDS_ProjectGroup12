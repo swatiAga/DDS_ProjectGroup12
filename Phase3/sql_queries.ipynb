{
 "cells": [
  {
   "cell_type": "markdown",
   "metadata": {},
   "source": [
    "# Task 3: Airflow MongoDB + SparkSQL"
   ]
  },
  {
   "cell_type": "markdown",
   "metadata": {},
   "source": [
    "DDS Group Project members: Andrea Quiroz, Chelyah Miller, Amit Chaubey, Helen Lin, Swati Agarwal"
   ]
  },
  {
   "cell_type": "code",
   "execution_count": 1,
   "metadata": {},
   "outputs": [],
   "source": [
    "import pyspark\n",
    "from pyspark.sql import Row, SparkSession\n",
    "from pyspark.sql.functions import *\n",
    "from pyspark.sql.types import *\n",
    "from pyspark.sql.window import Window"
   ]
  },
  {
   "cell_type": "code",
   "execution_count": 2,
   "metadata": {},
   "outputs": [
    {
     "name": "stderr",
     "output_type": "stream",
     "text": [
      "25/03/07 16:14:28 WARN Utils: Your hostname, Andreas-MacBook-Pro.local resolves to a loopback address: 127.0.0.1; using 10.0.0.160 instead (on interface en0)\n",
      "25/03/07 16:14:28 WARN Utils: Set SPARK_LOCAL_IP if you need to bind to another address\n",
      "Setting default log level to \"WARN\".\n",
      "To adjust logging level use sc.setLogLevel(newLevel). For SparkR, use setLogLevel(newLevel).\n",
      "25/03/07 16:14:28 WARN NativeCodeLoader: Unable to load native-hadoop library for your platform... using builtin-java classes where applicable\n"
     ]
    }
   ],
   "source": [
    "sc = SparkContext.getOrCreate()"
   ]
  },
  {
   "cell_type": "code",
   "execution_count": 3,
   "metadata": {},
   "outputs": [],
   "source": [
    "ss = SparkSession.builder.getOrCreate()"
   ]
  },
  {
   "cell_type": "markdown",
   "metadata": {},
   "source": [
    "## Create Dataframes from the data from MongoDB Atlas"
   ]
  },
  {
   "cell_type": "markdown",
   "metadata": {},
   "source": [
    "### Loading in the data from the json file that we grabbed from our MongoDB Atlas"
   ]
  },
  {
   "cell_type": "code",
   "execution_count": 4,
   "metadata": {},
   "outputs": [],
   "source": [
    "path = \"/Users/andreamellany/Documents/Documents - Andrea’s MacBook Pro/MSDS/msds697/movies_with_ratings.json\""
   ]
  },
  {
   "cell_type": "code",
   "execution_count": 6,
   "metadata": {},
   "outputs": [],
   "source": [
    "movies_ratingsdf = ss.read.option(\"multiline\", \"true\").json(path)"
   ]
  },
  {
   "cell_type": "markdown",
   "metadata": {},
   "source": [
    "Printing the schema out:"
   ]
  },
  {
   "cell_type": "code",
   "execution_count": 7,
   "metadata": {},
   "outputs": [
    {
     "name": "stdout",
     "output_type": "stream",
     "text": [
      "root\n",
      " |-- _id: struct (nullable = true)\n",
      " |    |-- $oid: string (nullable = true)\n",
      " |-- overview: string (nullable = true)\n",
      " |-- popularity: double (nullable = true)\n",
      " |-- ratings: array (nullable = true)\n",
      " |    |-- element: struct (containsNull = true)\n",
      " |    |    |-- rated_at: string (nullable = true)\n",
      " |    |    |-- rating: long (nullable = true)\n",
      " |    |    |-- user: string (nullable = true)\n",
      " |-- release_date: string (nullable = true)\n",
      " |-- title: string (nullable = true)\n",
      " |-- tmdb_id: long (nullable = true)\n",
      " |-- vote_average: double (nullable = true)\n",
      " |-- vote_count: long (nullable = true)\n",
      "\n"
     ]
    }
   ],
   "source": [
    "movies_ratingsdf.printSchema()"
   ]
  },
  {
   "cell_type": "markdown",
   "metadata": {},
   "source": [
    "Checking out the dataframe:"
   ]
  },
  {
   "cell_type": "code",
   "execution_count": 8,
   "metadata": {},
   "outputs": [
    {
     "name": "stdout",
     "output_type": "stream",
     "text": [
      "+--------------------+--------------------+----------+--------------------+------------+--------------------+-------+------------+----------+\n",
      "|                 _id|            overview|popularity|             ratings|release_date|               title|tmdb_id|vote_average|vote_count|\n",
      "+--------------------+--------------------+----------+--------------------+------------+--------------------+-------+------------+----------+\n",
      "|{67b7d9d43806d131...|Sonic, Knuckles, ...|  3084.368|[{2025-01-26T09:2...|  2024-12-19|Sonic the Hedgehog 3| 939243|       7.783|      1555|\n",
      "|{67b7d9d43806d131...|Kraven Kravinoff'...|   1785.56|[{2024-12-22T03:3...|  2024-12-11|   Kraven the Hunter| 539972|         6.6|      1066|\n",
      "|{67b7d9d43806d131...|After receiving a...|  1427.587|[{2025-01-29T17:1...|  2024-11-21|             Moana 2|1241982|       7.208|      1311|\n",
      "|{67b7d9d43806d131...|Fifteen years aft...|  1312.816|[{2025-01-21T20:1...|  2025-01-15|      Back in Action| 993710|       6.633|       793|\n",
      "|{67b7d9d43806d131...|Two married spies...|  1149.463|[{2025-01-18T22:4...|  2025-01-16|              Alarum|1249289|         5.9|       124|\n",
      "|{67b7d9d43806d131...|To stop an arms d...|  1030.228|[{2025-01-24T23:4...|  2025-01-21|Sniper: The Last ...|1410082|         6.5|        65|\n",
      "|{67b7d9d43806d131...|When Dr. Indiana ...|   980.647|[{2021-09-25T06:0...|  1981-06-12|Raiders of the Lo...|     85|       7.926|     12604|\n",
      "|{67b7d9d43806d131...|A high-powered CE...|   870.978|[{2025-01-30T09:0...|  2024-12-25|            Babygirl|1097549|       5.762|       366|\n",
      "|{67b7d9d43806d131...|Eddie and Venom a...|   841.993|[{2024-12-12T09:4...|  2024-10-22|Venom: The Last D...| 912649|        6.78|      2688|\n",
      "|{67b7d9d43806d131...|A gothic tale of ...|   763.015|[{2023-07-31T05:1...|  2024-12-25|           Nosferatu| 426063|         6.7|      1902|\n",
      "|{67b7d9d43806d131...|Years after witne...|   805.586|[{2025-01-14T18:2...|  2024-11-05|        Gladiator II| 558449|         6.8|      2689|\n",
      "|{67b7d9d43806d131...|Devara, a fearles...|   755.154|[{2025-02-15T17:2...|  2024-09-26|      Devara: Part 1| 811941|       7.178|       104|\n",
      "|{67b7d9d43806d131...|Mufasa, a cub los...|   774.207|[{2025-01-03T21:0...|  2024-12-18|Mufasa: The Lion ...| 762509|       7.424|       959|\n",
      "|{67b7d9d43806d131...|Emperor Philippa ...|   716.514|[{2025-02-01T04:4...|  2025-01-15|Star Trek: Sectio...|1114894|         4.6|       123|\n",
      "|{67b7d9d43806d131...|Women are lucky, ...|   618.151|                  []|  2016-06-18|         Le clitoris| 426889|       6.808|        26|\n",
      "|{67b7d9d43806d131...|A year after a su...|   651.035|[{2025-01-05T23:5...|  2024-12-04|          Werewolves| 970450|         6.2|       270|\n",
      "|{67b7d9d43806d131...|A fading celebrit...|   622.528|[{2024-10-14T06:3...|  2024-09-07|       The Substance| 933260|         7.1|      3673|\n",
      "|{67b7d9d43806d131...|Every year the Pr...|   606.794|[{2025-01-13T18:0...|  2025-01-30|        The Gardener|1255788|         6.4|        47|\n",
      "|{67b7d9d43806d131...|A single father a...|   550.189|[{2025-01-16T00:5...|  2024-11-07|           Elevation|1035048|         6.3|       464|\n",
      "|{67b7d9d43806d131...|A sudden attack b...|   514.811|[{2024-12-18T16:2...|  2024-12-05|The Lord of the R...| 839033|         6.7|       400|\n",
      "+--------------------+--------------------+----------+--------------------+------------+--------------------+-------+------------+----------+\n",
      "only showing top 20 rows\n",
      "\n"
     ]
    }
   ],
   "source": [
    "movies_ratingsdf.show()"
   ]
  },
  {
   "cell_type": "markdown",
   "metadata": {},
   "source": [
    "## Run SparkSQL SQL queries over the data frames"
   ]
  },
  {
   "cell_type": "code",
   "execution_count": 10,
   "metadata": {},
   "outputs": [],
   "source": [
    "# Creating the dataframe in order to make temporary SQL data to run SparkSQL queries:\n",
    "movies_ratingsdf.createOrReplaceTempView(\"mr_table\")"
   ]
  },
  {
   "cell_type": "markdown",
   "metadata": {},
   "source": [
    "### Query 1:\n",
    "Average rating, total rating count, and standard deviation of ratings per movie"
   ]
  },
  {
   "cell_type": "code",
   "execution_count": 23,
   "metadata": {},
   "outputs": [
    {
     "name": "stdout",
     "output_type": "stream",
     "text": [
      "+--------------------+-----------------+-------------+------------------+\n",
      "|               title|       avg_rating|total_ratings|     rating_stddev|\n",
      "+--------------------+-----------------+-------------+------------------+\n",
      "|         Sex Stories|             10.0|            1|              NULL|\n",
      "|      The Prosecutor|             10.0|            1|              NULL|\n",
      "|No Manches Frida ...|             10.0|            1|              NULL|\n",
      "|Prison Break: The...|             10.0|            1|              NULL|\n",
      "|              Murari|             10.0|            1|              NULL|\n",
      "|      The Red Thread|             10.0|            1|              NULL|\n",
      "|My Little Pony: A...|             10.0|            2|               0.0|\n",
      "| Murmur of the Heart|             10.0|            1|              NULL|\n",
      "|One Piece: Episod...|             10.0|            1|              NULL|\n",
      "| Detective Chinatown|             10.0|            1|              NULL|\n",
      "|           Dominique|             10.0|            1|              NULL|\n",
      "|Megamind vs. the ...|             10.0|            1|              NULL|\n",
      "|Avicii - My Last ...|             10.0|            1|              NULL|\n",
      "| Under the Same Moon|             10.0|            1|              NULL|\n",
      "|Kingdom III: The ...|             10.0|            1|              NULL|\n",
      "|Gabriel Iglesias:...|              9.5|            4|0.9999999999999999|\n",
      "|Violet Evergarden...|9.333333333333334|            6| 0.816496580927726|\n",
      "|            War Room|9.333333333333334|            9| 1.414213562373095|\n",
      "|      I'm Still Here|             9.25|            8|0.7071067811865476|\n",
      "|The Shawshank Red...|9.207253886010363|          579|1.1414868693071412|\n",
      "+--------------------+-----------------+-------------+------------------+\n",
      "only showing top 20 rows\n",
      "\n"
     ]
    }
   ],
   "source": [
    "query1 = ss.sql(\"SELECT title, \\\n",
    "    COALESCE(AVG(r.rating), 0)  AS avg_rating, \\\n",
    "    COUNT(r.rating) AS total_ratings, \\\n",
    "    STDDEV(r.rating) AS rating_stddev \\\n",
    "    FROM mr_table \\\n",
    "    LATERAL VIEW OUTER explode(ratings) exploded_ratings AS r \\\n",
    "    WHERE size(ratings) > 0 \\\n",
    "    GROUP BY title \\\n",
    "    ORDER BY avg_rating DESC\")\n",
    "query1.show()"
   ]
  },
  {
   "cell_type": "markdown",
   "metadata": {},
   "source": [
    "### Query 2:\n",
    "Number of distinct users who rated each movie that has ratings! Excluded movies with 0 ratings"
   ]
  },
  {
   "cell_type": "code",
   "execution_count": 24,
   "metadata": {},
   "outputs": [
    {
     "name": "stderr",
     "output_type": "stream",
     "text": [
      "[Stage 24:>                                                         (0 + 1) / 1]\r"
     ]
    },
    {
     "name": "stdout",
     "output_type": "stream",
     "text": [
      "+--------------------+-------------------+\n",
      "|               title|distinct_user_count|\n",
      "+--------------------+-------------------+\n",
      "|            Deadpool|                890|\n",
      "|Guardians of the ...|                876|\n",
      "|           Inception|                855|\n",
      "|        Interstellar|                854|\n",
      "|     The Dark Knight|                841|\n",
      "|        The Avengers|                805|\n",
      "|          The Matrix|                771|\n",
      "|              Frozen|                707|\n",
      "|         The Martian|                695|\n",
      "|          Fight Club|                687|\n",
      "|              Avatar|                686|\n",
      "|  Mad Max: Fury Road|                683|\n",
      "|      Doctor Strange|                682|\n",
      "|            Iron Man|                679|\n",
      "|The Lord of the R...|                666|\n",
      "|Captain America: ...|                660|\n",
      "|Avengers: Age of ...|                657|\n",
      "|The Dark Knight R...|                649|\n",
      "|Captain America: ...|                645|\n",
      "|Star Wars: The Fo...|                639|\n",
      "+--------------------+-------------------+\n",
      "only showing top 20 rows\n",
      "\n"
     ]
    },
    {
     "name": "stderr",
     "output_type": "stream",
     "text": [
      "                                                                                \r"
     ]
    }
   ],
   "source": [
    "query2 = ss.sql(\"SELECT title, \\\n",
    "    COUNT(DISTINCT r.user) AS distinct_user_count \\\n",
    "    FROM mr_table \\\n",
    "    LATERAL VIEW OUTER explode(ratings) exploded_ratings AS r \\\n",
    "    GROUP BY title \\\n",
    "    ORDER BY distinct_user_count DESC\")\n",
    "query2.show()"
   ]
  },
  {
   "cell_type": "markdown",
   "metadata": {},
   "source": [
    "### Query 3:\n",
    "\"Polarizing\" movies, basically controversial movies. This ranks movies by the range of ratings (diff between the max rating and min rating). A higher range means that some people gave very low scores while others gave very high scores!"
   ]
  },
  {
   "cell_type": "code",
   "execution_count": 28,
   "metadata": {},
   "outputs": [
    {
     "name": "stdout",
     "output_type": "stream",
     "text": [
      "+--------------------+------------+\n",
      "|               title|rating_range|\n",
      "+--------------------+------------+\n",
      "|The Final Destina...|           9|\n",
      "|           The Whale|           9|\n",
      "|        The Proposal|           9|\n",
      "|          The Ritual|           9|\n",
      "|Salaar: Part 1 - ...|           9|\n",
      "|  The Last Airbender|           9|\n",
      "|           Sex Drive|           9|\n",
      "|Before I Go to Sleep|           9|\n",
      "|            Warcraft|           9|\n",
      "|          The Nun II|           9|\n",
      "|   Failure to Launch|           9|\n",
      "|       A Quiet Place|           9|\n",
      "|The Bridges of Ma...|           9|\n",
      "|    Now You See Me 2|           9|\n",
      "|   Kill Bill: Vol. 2|           9|\n",
      "|Birdman or (The U...|           9|\n",
      "|American Pie Pres...|           9|\n",
      "|        Daddy's Home|           9|\n",
      "|   Bohemian Rhapsody|           9|\n",
      "|         The Tourist|           9|\n",
      "+--------------------+------------+\n",
      "only showing top 20 rows\n",
      "\n"
     ]
    }
   ],
   "source": [
    "query3 = ss.sql(\"SELECT title, \\\n",
    "                (MAX(r.rating) - MIN(r.rating)) AS rating_range \\\n",
    "            FROM mr_table \\\n",
    "            LATERAL VIEW OUTER explode_outer(ratings) exploded_ratings AS r \\\n",
    "            GROUP BY title \\\n",
    "            ORDER BY rating_range DESC\") \n",
    "query3.show()"
   ]
  },
  {
   "cell_type": "markdown",
   "metadata": {},
   "source": [
    "### Query 4:\n",
    "Rating distribution for every movie. "
   ]
  },
  {
   "cell_type": "code",
   "execution_count": 29,
   "metadata": {},
   "outputs": [
    {
     "name": "stdout",
     "output_type": "stream",
     "text": [
      "+--------------------+------+------------+\n",
      "|               title|rating|rating_count|\n",
      "+--------------------+------+------------+\n",
      "|              #Alive|     3|           1|\n",
      "|              #Alive|     4|           2|\n",
      "|              #Alive|     6|          13|\n",
      "|              #Alive|     7|          12|\n",
      "|              #Alive|     8|           2|\n",
      "|              #Alive|     9|           1|\n",
      "|              #Alive|    10|           2|\n",
      "|         #Blue_Whale|     4|           1|\n",
      "|         #Blue_Whale|     6|           1|\n",
      "|(500) Days of Summer|     1|           4|\n",
      "|(500) Days of Summer|     2|           1|\n",
      "|(500) Days of Summer|     3|           2|\n",
      "|(500) Days of Summer|     4|           1|\n",
      "|(500) Days of Summer|     5|          13|\n",
      "|(500) Days of Summer|     6|          26|\n",
      "|(500) Days of Summer|     7|          48|\n",
      "|(500) Days of Summer|     8|          84|\n",
      "|(500) Days of Summer|     9|          29|\n",
      "|(500) Days of Summer|    10|          33|\n",
      "| 10 Cloverfield Lane|     1|           2|\n",
      "+--------------------+------+------------+\n",
      "only showing top 20 rows\n",
      "\n"
     ]
    }
   ],
   "source": [
    "query4 = ss.sql(\"SELECT title, \\\n",
    "                    r.rating, \\\n",
    "                    COUNT(*) AS rating_count \\\n",
    "                FROM mr_table \\\n",
    "                LATERAL VIEW explode(ratings) exploded_ratings AS r \\\n",
    "                GROUP BY title, r.rating \\\n",
    "                ORDER BY title, r.rating\") \n",
    "query4.show()"
   ]
  },
  {
   "cell_type": "markdown",
   "metadata": {},
   "source": [
    "### Query 5:\n",
    "Movies that never received ratings below a certain threshold. Because our rating scale is from 1-10, I will make the threshold 6, midpoint threshold is too low in my opinion, I need to raise the standards up just a tiny bit. "
   ]
  },
  {
   "cell_type": "code",
   "execution_count": 31,
   "metadata": {},
   "outputs": [
    {
     "name": "stdout",
     "output_type": "stream",
     "text": [
      "+--------------------+\n",
      "|               title|\n",
      "+--------------------+\n",
      "|         Deep Rising|\n",
      "|The Rifleman of t...|\n",
      "|          Undercover|\n",
      "|Tom and Jerry: Th...|\n",
      "|         The Verdict|\n",
      "|   Memoir of a Snail|\n",
      "|     Death Whisperer|\n",
      "|Rurouni Kenshin: ...|\n",
      "|           Capernaum|\n",
      "|       La Dolce Vita|\n",
      "|                Hope|\n",
      "|I Want to Eat You...|\n",
      "|                Toma|\n",
      "|The Count of Mont...|\n",
      "|   Naked Ambition 3D|\n",
      "|      The Wild Bunch|\n",
      "|    New Police Story|\n",
      "|      The Prosecutor|\n",
      "|The Trapped 13: H...|\n",
      "|            Fidelity|\n",
      "+--------------------+\n",
      "only showing top 20 rows\n",
      "\n"
     ]
    }
   ],
   "source": [
    "query5 = ss.sql(\"SELECT title \\\n",
    "                FROM mr_table \\\n",
    "                LATERAL VIEW explode(ratings) exploded_ratings AS r \\\n",
    "                GROUP BY title \\\n",
    "                HAVING MIN(r.rating) >= 6\") \n",
    "query5.show()"
   ]
  },
  {
   "cell_type": "markdown",
   "metadata": {},
   "source": [
    "## Build machine learning algorithms (optional) to derive analytics on top of the original and aggregated datasets"
   ]
  },
  {
   "cell_type": "markdown",
   "metadata": {},
   "source": [
    "Due to the pace of the module, we are slowing down our timeline towards our end goal: A movie recommendation system. Andrea, Amit, Chelyah, and Helen have agreed to move forward with the project until we have reach L4. We are all very enthusiastic to see the end goal, with priority of automating our pipeline, and having at the end of it a user interface for people to interact with our project. Because some of us are continuing on with the DE concentration, we remain accountable to ourselves and Mahesh to see this come to fruition!"
   ]
  }
 ],
 "metadata": {
  "kernelspec": {
   "display_name": "DistributedSystems",
   "language": "python",
   "name": "python3"
  },
  "language_info": {
   "codemirror_mode": {
    "name": "ipython",
    "version": 3
   },
   "file_extension": ".py",
   "mimetype": "text/x-python",
   "name": "python",
   "nbconvert_exporter": "python",
   "pygments_lexer": "ipython3",
   "version": "3.8.16"
  }
 },
 "nbformat": 4,
 "nbformat_minor": 2
}
